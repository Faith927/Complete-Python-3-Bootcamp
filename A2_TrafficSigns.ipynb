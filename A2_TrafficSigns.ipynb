{
  "nbformat": 4,
  "nbformat_minor": 0,
  "metadata": {
    "colab": {
      "provenance": [],
      "authorship_tag": "ABX9TyM9VCfqNDUTkl8jcQC7l42f"
    },
    "kernelspec": {
      "name": "python3",
      "display_name": "Python 3"
    },
    "language_info": {
      "name": "python"
    }
  },
  "cells": [
    {
      "cell_type": "code",
      "execution_count": 1,
      "metadata": {
        "colab": {
          "base_uri": "https://localhost:8080/"
        },
        "id": "TK4gxogKSqAt",
        "outputId": "ef7b125c-5752-4b6b-b25b-7ae9f903272e"
      },
      "outputs": [
        {
          "output_type": "stream",
          "name": "stdout",
          "text": [
            "2.15.0\n"
          ]
        }
      ],
      "source": [
        "import tensorflow\n",
        "print(tensorflow.__version__)"
      ]
    },
    {
      "cell_type": "code",
      "source": [
        "from google.colab import drive\n",
        "drive.mount('/content/drive')"
      ],
      "metadata": {
        "colab": {
          "base_uri": "https://localhost:8080/"
        },
        "id": "m5007KsQSy0A",
        "outputId": "cdce71db-873f-4186-c42e-9b80d23885a1"
      },
      "execution_count": 2,
      "outputs": [
        {
          "output_type": "stream",
          "name": "stdout",
          "text": [
            "Drive already mounted at /content/drive; to attempt to forcibly remount, call drive.mount(\"/content/drive\", force_remount=True).\n"
          ]
        }
      ]
    },
    {
      "cell_type": "code",
      "source": [
        "!ls /content/drive/'My Drive'/COSC2673A2/"
      ],
      "metadata": {
        "colab": {
          "base_uri": "https://localhost:8080/"
        },
        "id": "aRQTrluvTijM",
        "outputId": "cfd69aa8-c2f6-4689-8f2d-579d3ed484d7"
      },
      "execution_count": 3,
      "outputs": [
        {
          "output_type": "stream",
          "name": "stdout",
          "text": [
            "A2-TrafficSigns.ipynb  trafficsigns_dataset.zip\n"
          ]
        }
      ]
    },
    {
      "cell_type": "code",
      "source": [
        "!cp /content/drive/'My Drive'/COSC2673A2/trafficsigns_dataset.zip .\n",
        "!unzip -q -o trafficsigns_dataset.zip\n",
        "!rm trafficsigns_dataset.zip\n",
        "!ls\n"
      ],
      "metadata": {
        "colab": {
          "base_uri": "https://localhost:8080/"
        },
        "id": "2lZHQfpxTlcZ",
        "outputId": "78c41f6b-97ec-4400-da9b-1ec545a04779"
      },
      "execution_count": 4,
      "outputs": [
        {
          "output_type": "stream",
          "name": "stdout",
          "text": [
            "drive  __MACOSX  sample_data  trafficsigns_dataset\n"
          ]
        }
      ]
    },
    {
      "cell_type": "markdown",
      "source": [
        "**EDA**"
      ],
      "metadata": {
        "id": "JY5__h7jruor"
      }
    },
    {
      "cell_type": "code",
      "source": [
        "# libraries\n",
        "\n",
        "import os\n",
        "from PIL import Image\n",
        "\n",
        "import matplotlib.pyplot as plt\n",
        "import random\n",
        "from PIL import Image\n",
        "\n",
        "import matplotlib.pyplot as plt\n",
        "import pandas as pd\n",
        "import glob"
      ],
      "metadata": {
        "id": "tM5USEvyrzuv"
      },
      "execution_count": 5,
      "outputs": []
    },
    {
      "cell_type": "code",
      "source": [
        "dataset_folder = 'trafficsigns_dataset'\n",
        "\n",
        "# List subfolders in dataset folder\n",
        "subfolders = [subfolder for subfolder in os.listdir(dataset_folder) if os.path.isdir(os.path.join(dataset_folder, subfolder))]\n",
        "\n",
        "# Iterate over subfolders\n",
        "for subfolder in subfolders:\n",
        "    subfolder_path = os.path.join(dataset_folder, subfolder)\n",
        "    print(f\"Subfolder: {subfolder}\")\n",
        "\n",
        "    # List files in current subfolder\n",
        "    files = os.listdir(subfolder_path)\n",
        "\n",
        "    # Print files in current subfolder\n",
        "    for file in files:\n",
        "        print(f\"  - {file}\")\n"
      ],
      "metadata": {
        "colab": {
          "base_uri": "https://localhost:8080/"
        },
        "id": "2Aa-mnZWBqXO",
        "outputId": "25db126d-d968-4747-b500-4834fdc439e6"
      },
      "execution_count": 6,
      "outputs": [
        {
          "output_type": "stream",
          "name": "stdout",
          "text": [
            "Subfolder: hex\n",
            "  - stop\n",
            "Subfolder: triangle\n",
            "  - warning\n",
            "  - giveway\n",
            "Subfolder: diamond\n",
            "  - rightofway\n",
            "Subfolder: square\n",
            "  - continue\n",
            "  - laneend\n",
            "  - crossing\n",
            "  - parking\n",
            "  - .DS_Store\n",
            "Subfolder: round\n",
            "  - limitedtraffic\n",
            "  - speed\n",
            "  - trafficdirective\n",
            "  - bicycle\n",
            "  - traveldirection\n",
            "  - noparking\n",
            "  - roundabout\n",
            "  - .DS_Store\n",
            "  - noentry\n"
          ]
        }
      ]
    },
    {
      "cell_type": "code",
      "source": [
        "dataset_folder = 'trafficsigns_dataset'\n",
        "subfolders = ['hex', 'triangle', 'diamond', 'square', 'round']\n",
        "\n",
        "data = []\n",
        "subfolder_variables = {}\n",
        "\n",
        "# Iterate over the main subfolders\n",
        "for label in subfolders:\n",
        "    subfolder_path = os.path.join(dataset_folder, label)\n",
        "\n",
        "    # Check if the subfolder exists\n",
        "    if os.path.exists(subfolder_path) and os.path.isdir(subfolder_path):\n",
        "        subfolder_contents = os.listdir(subfolder_path)\n",
        "        subfolder_variables[label] = {}  # Initialize empty dictionary for sub-subfolders\n",
        "\n",
        "        # Iterate over the sub-subfolders\n",
        "        for sub_label in subfolder_contents:\n",
        "            sub_subfolder_path = os.path.join(subfolder_path, sub_label)\n",
        "\n",
        "            # Check if the sub-subfolder exists\n",
        "            if os.path.exists(sub_subfolder_path) and os.path.isdir(sub_subfolder_path):\n",
        "                images = []\n",
        "\n",
        "                # Iterate over the image files in the sub-subfolder\n",
        "                for filename in os.listdir(sub_subfolder_path):\n",
        "                    file_path = os.path.join(sub_subfolder_path, filename)\n",
        "\n",
        "                    # Check if the file is an image (PNG format)\n",
        "                    if filename.endswith('.png'):\n",
        "                        # Open the image using PIL\n",
        "                        image = Image.open(file_path)\n",
        "\n",
        "                        # Append the image to the list of images for the sub-subfolder\n",
        "                        images.append(image)\n",
        "\n",
        "                # Save the list of images for the current sub-subfolder in subfolder_variables\n",
        "                subfolder_variables[label][sub_label] = images\n",
        "\n",
        "                # Append image name and label to the data list for DataFrame creation\n",
        "                for image in images:\n",
        "                    data.append({'image name': os.path.basename(file_path), 'label': os.path.join(label, sub_label)})\n",
        "\n",
        "# Create a DataFrame from the list of dictionaries (data)\n",
        "df = pd.DataFrame(data)\n",
        "\n",
        "# Display the DataFrame\n",
        "df.head()\n"
      ],
      "metadata": {
        "colab": {
          "base_uri": "https://localhost:8080/",
          "height": 206
        },
        "id": "nyqJ9al3UFYR",
        "outputId": "5726dde4-eb51-424a-9ff8-100af2551dc9"
      },
      "execution_count": 14,
      "outputs": [
        {
          "output_type": "execute_result",
          "data": {
            "text/plain": [
              "        image name     label\n",
              "0  00715_00003.png  hex/stop\n",
              "1  00715_00003.png  hex/stop\n",
              "2  00715_00003.png  hex/stop\n",
              "3  00715_00003.png  hex/stop\n",
              "4  00715_00003.png  hex/stop"
            ],
            "text/html": [
              "\n",
              "  <div id=\"df-9a406d9a-3833-4490-9d61-f74e1f19d44a\" class=\"colab-df-container\">\n",
              "    <div>\n",
              "<style scoped>\n",
              "    .dataframe tbody tr th:only-of-type {\n",
              "        vertical-align: middle;\n",
              "    }\n",
              "\n",
              "    .dataframe tbody tr th {\n",
              "        vertical-align: top;\n",
              "    }\n",
              "\n",
              "    .dataframe thead th {\n",
              "        text-align: right;\n",
              "    }\n",
              "</style>\n",
              "<table border=\"1\" class=\"dataframe\">\n",
              "  <thead>\n",
              "    <tr style=\"text-align: right;\">\n",
              "      <th></th>\n",
              "      <th>image name</th>\n",
              "      <th>label</th>\n",
              "    </tr>\n",
              "  </thead>\n",
              "  <tbody>\n",
              "    <tr>\n",
              "      <th>0</th>\n",
              "      <td>00715_00003.png</td>\n",
              "      <td>hex/stop</td>\n",
              "    </tr>\n",
              "    <tr>\n",
              "      <th>1</th>\n",
              "      <td>00715_00003.png</td>\n",
              "      <td>hex/stop</td>\n",
              "    </tr>\n",
              "    <tr>\n",
              "      <th>2</th>\n",
              "      <td>00715_00003.png</td>\n",
              "      <td>hex/stop</td>\n",
              "    </tr>\n",
              "    <tr>\n",
              "      <th>3</th>\n",
              "      <td>00715_00003.png</td>\n",
              "      <td>hex/stop</td>\n",
              "    </tr>\n",
              "    <tr>\n",
              "      <th>4</th>\n",
              "      <td>00715_00003.png</td>\n",
              "      <td>hex/stop</td>\n",
              "    </tr>\n",
              "  </tbody>\n",
              "</table>\n",
              "</div>\n",
              "    <div class=\"colab-df-buttons\">\n",
              "\n",
              "  <div class=\"colab-df-container\">\n",
              "    <button class=\"colab-df-convert\" onclick=\"convertToInteractive('df-9a406d9a-3833-4490-9d61-f74e1f19d44a')\"\n",
              "            title=\"Convert this dataframe to an interactive table.\"\n",
              "            style=\"display:none;\">\n",
              "\n",
              "  <svg xmlns=\"http://www.w3.org/2000/svg\" height=\"24px\" viewBox=\"0 -960 960 960\">\n",
              "    <path d=\"M120-120v-720h720v720H120Zm60-500h600v-160H180v160Zm220 220h160v-160H400v160Zm0 220h160v-160H400v160ZM180-400h160v-160H180v160Zm440 0h160v-160H620v160ZM180-180h160v-160H180v160Zm440 0h160v-160H620v160Z\"/>\n",
              "  </svg>\n",
              "    </button>\n",
              "\n",
              "  <style>\n",
              "    .colab-df-container {\n",
              "      display:flex;\n",
              "      gap: 12px;\n",
              "    }\n",
              "\n",
              "    .colab-df-convert {\n",
              "      background-color: #E8F0FE;\n",
              "      border: none;\n",
              "      border-radius: 50%;\n",
              "      cursor: pointer;\n",
              "      display: none;\n",
              "      fill: #1967D2;\n",
              "      height: 32px;\n",
              "      padding: 0 0 0 0;\n",
              "      width: 32px;\n",
              "    }\n",
              "\n",
              "    .colab-df-convert:hover {\n",
              "      background-color: #E2EBFA;\n",
              "      box-shadow: 0px 1px 2px rgba(60, 64, 67, 0.3), 0px 1px 3px 1px rgba(60, 64, 67, 0.15);\n",
              "      fill: #174EA6;\n",
              "    }\n",
              "\n",
              "    .colab-df-buttons div {\n",
              "      margin-bottom: 4px;\n",
              "    }\n",
              "\n",
              "    [theme=dark] .colab-df-convert {\n",
              "      background-color: #3B4455;\n",
              "      fill: #D2E3FC;\n",
              "    }\n",
              "\n",
              "    [theme=dark] .colab-df-convert:hover {\n",
              "      background-color: #434B5C;\n",
              "      box-shadow: 0px 1px 3px 1px rgba(0, 0, 0, 0.15);\n",
              "      filter: drop-shadow(0px 1px 2px rgba(0, 0, 0, 0.3));\n",
              "      fill: #FFFFFF;\n",
              "    }\n",
              "  </style>\n",
              "\n",
              "    <script>\n",
              "      const buttonEl =\n",
              "        document.querySelector('#df-9a406d9a-3833-4490-9d61-f74e1f19d44a button.colab-df-convert');\n",
              "      buttonEl.style.display =\n",
              "        google.colab.kernel.accessAllowed ? 'block' : 'none';\n",
              "\n",
              "      async function convertToInteractive(key) {\n",
              "        const element = document.querySelector('#df-9a406d9a-3833-4490-9d61-f74e1f19d44a');\n",
              "        const dataTable =\n",
              "          await google.colab.kernel.invokeFunction('convertToInteractive',\n",
              "                                                    [key], {});\n",
              "        if (!dataTable) return;\n",
              "\n",
              "        const docLinkHtml = 'Like what you see? Visit the ' +\n",
              "          '<a target=\"_blank\" href=https://colab.research.google.com/notebooks/data_table.ipynb>data table notebook</a>'\n",
              "          + ' to learn more about interactive tables.';\n",
              "        element.innerHTML = '';\n",
              "        dataTable['output_type'] = 'display_data';\n",
              "        await google.colab.output.renderOutput(dataTable, element);\n",
              "        const docLink = document.createElement('div');\n",
              "        docLink.innerHTML = docLinkHtml;\n",
              "        element.appendChild(docLink);\n",
              "      }\n",
              "    </script>\n",
              "  </div>\n",
              "\n",
              "\n",
              "<div id=\"df-f6bbb9ba-e65d-4474-ba71-cd99db4f0d42\">\n",
              "  <button class=\"colab-df-quickchart\" onclick=\"quickchart('df-f6bbb9ba-e65d-4474-ba71-cd99db4f0d42')\"\n",
              "            title=\"Suggest charts\"\n",
              "            style=\"display:none;\">\n",
              "\n",
              "<svg xmlns=\"http://www.w3.org/2000/svg\" height=\"24px\"viewBox=\"0 0 24 24\"\n",
              "     width=\"24px\">\n",
              "    <g>\n",
              "        <path d=\"M19 3H5c-1.1 0-2 .9-2 2v14c0 1.1.9 2 2 2h14c1.1 0 2-.9 2-2V5c0-1.1-.9-2-2-2zM9 17H7v-7h2v7zm4 0h-2V7h2v10zm4 0h-2v-4h2v4z\"/>\n",
              "    </g>\n",
              "</svg>\n",
              "  </button>\n",
              "\n",
              "<style>\n",
              "  .colab-df-quickchart {\n",
              "      --bg-color: #E8F0FE;\n",
              "      --fill-color: #1967D2;\n",
              "      --hover-bg-color: #E2EBFA;\n",
              "      --hover-fill-color: #174EA6;\n",
              "      --disabled-fill-color: #AAA;\n",
              "      --disabled-bg-color: #DDD;\n",
              "  }\n",
              "\n",
              "  [theme=dark] .colab-df-quickchart {\n",
              "      --bg-color: #3B4455;\n",
              "      --fill-color: #D2E3FC;\n",
              "      --hover-bg-color: #434B5C;\n",
              "      --hover-fill-color: #FFFFFF;\n",
              "      --disabled-bg-color: #3B4455;\n",
              "      --disabled-fill-color: #666;\n",
              "  }\n",
              "\n",
              "  .colab-df-quickchart {\n",
              "    background-color: var(--bg-color);\n",
              "    border: none;\n",
              "    border-radius: 50%;\n",
              "    cursor: pointer;\n",
              "    display: none;\n",
              "    fill: var(--fill-color);\n",
              "    height: 32px;\n",
              "    padding: 0;\n",
              "    width: 32px;\n",
              "  }\n",
              "\n",
              "  .colab-df-quickchart:hover {\n",
              "    background-color: var(--hover-bg-color);\n",
              "    box-shadow: 0 1px 2px rgba(60, 64, 67, 0.3), 0 1px 3px 1px rgba(60, 64, 67, 0.15);\n",
              "    fill: var(--button-hover-fill-color);\n",
              "  }\n",
              "\n",
              "  .colab-df-quickchart-complete:disabled,\n",
              "  .colab-df-quickchart-complete:disabled:hover {\n",
              "    background-color: var(--disabled-bg-color);\n",
              "    fill: var(--disabled-fill-color);\n",
              "    box-shadow: none;\n",
              "  }\n",
              "\n",
              "  .colab-df-spinner {\n",
              "    border: 2px solid var(--fill-color);\n",
              "    border-color: transparent;\n",
              "    border-bottom-color: var(--fill-color);\n",
              "    animation:\n",
              "      spin 1s steps(1) infinite;\n",
              "  }\n",
              "\n",
              "  @keyframes spin {\n",
              "    0% {\n",
              "      border-color: transparent;\n",
              "      border-bottom-color: var(--fill-color);\n",
              "      border-left-color: var(--fill-color);\n",
              "    }\n",
              "    20% {\n",
              "      border-color: transparent;\n",
              "      border-left-color: var(--fill-color);\n",
              "      border-top-color: var(--fill-color);\n",
              "    }\n",
              "    30% {\n",
              "      border-color: transparent;\n",
              "      border-left-color: var(--fill-color);\n",
              "      border-top-color: var(--fill-color);\n",
              "      border-right-color: var(--fill-color);\n",
              "    }\n",
              "    40% {\n",
              "      border-color: transparent;\n",
              "      border-right-color: var(--fill-color);\n",
              "      border-top-color: var(--fill-color);\n",
              "    }\n",
              "    60% {\n",
              "      border-color: transparent;\n",
              "      border-right-color: var(--fill-color);\n",
              "    }\n",
              "    80% {\n",
              "      border-color: transparent;\n",
              "      border-right-color: var(--fill-color);\n",
              "      border-bottom-color: var(--fill-color);\n",
              "    }\n",
              "    90% {\n",
              "      border-color: transparent;\n",
              "      border-bottom-color: var(--fill-color);\n",
              "    }\n",
              "  }\n",
              "</style>\n",
              "\n",
              "  <script>\n",
              "    async function quickchart(key) {\n",
              "      const quickchartButtonEl =\n",
              "        document.querySelector('#' + key + ' button');\n",
              "      quickchartButtonEl.disabled = true;  // To prevent multiple clicks.\n",
              "      quickchartButtonEl.classList.add('colab-df-spinner');\n",
              "      try {\n",
              "        const charts = await google.colab.kernel.invokeFunction(\n",
              "            'suggestCharts', [key], {});\n",
              "      } catch (error) {\n",
              "        console.error('Error during call to suggestCharts:', error);\n",
              "      }\n",
              "      quickchartButtonEl.classList.remove('colab-df-spinner');\n",
              "      quickchartButtonEl.classList.add('colab-df-quickchart-complete');\n",
              "    }\n",
              "    (() => {\n",
              "      let quickchartButtonEl =\n",
              "        document.querySelector('#df-f6bbb9ba-e65d-4474-ba71-cd99db4f0d42 button');\n",
              "      quickchartButtonEl.style.display =\n",
              "        google.colab.kernel.accessAllowed ? 'block' : 'none';\n",
              "    })();\n",
              "  </script>\n",
              "</div>\n",
              "\n",
              "    </div>\n",
              "  </div>\n"
            ],
            "application/vnd.google.colaboratory.intrinsic+json": {
              "type": "dataframe",
              "variable_name": "df",
              "summary": "{\n  \"name\": \"df\",\n  \"rows\": 3699,\n  \"fields\": [\n    {\n      \"column\": \"image name\",\n      \"properties\": {\n        \"dtype\": \"category\",\n        \"num_unique_values\": 16,\n        \"samples\": [\n          \"00715_00003.png\",\n          \"01558_00000.png\",\n          \"00607_00001.png\"\n        ],\n        \"semantic_type\": \"\",\n        \"description\": \"\"\n      }\n    },\n    {\n      \"column\": \"label\",\n      \"properties\": {\n        \"dtype\": \"category\",\n        \"num_unique_values\": 16,\n        \"samples\": [\n          \"hex/stop\",\n          \"triangle/warning\",\n          \"square/laneend\"\n        ],\n        \"semantic_type\": \"\",\n        \"description\": \"\"\n      }\n    }\n  ]\n}"
            }
          },
          "metadata": {},
          "execution_count": 14
        }
      ]
    },
    {
      "cell_type": "code",
      "source": [
        "label_counts = df['label'].value_counts()\n",
        "print(label_counts)"
      ],
      "metadata": {
        "colab": {
          "base_uri": "https://localhost:8080/"
        },
        "id": "5T3i44mmObrL",
        "outputId": "e4a925cb-2cc0-4d4b-f188-b181d6aa0974"
      },
      "execution_count": 10,
      "outputs": [
        {
          "output_type": "stream",
          "name": "stdout",
          "text": [
            "label\n",
            "triangle/warning          695\n",
            "round/noentry             375\n",
            "round/speed               316\n",
            "round/bicycle             285\n",
            "diamond/rightofway        282\n",
            "square/parking            276\n",
            "round/noparking           242\n",
            "triangle/giveway          231\n",
            "square/continue           199\n",
            "round/trafficdirective    195\n",
            "round/limitedtraffic      125\n",
            "round/traveldirection     124\n",
            "square/laneend            118\n",
            "round/roundabout           98\n",
            "square/crossing            95\n",
            "hex/stop                   43\n",
            "Name: count, dtype: int64\n"
          ]
        }
      ]
    },
    {
      "cell_type": "code",
      "source": [
        "# Plotting length of each label with bar chart\n",
        "plt.figure(figsize=(10, 6))\n",
        "\n",
        "# Create a bar plot\n",
        "label_counts.plot(kind='bar', color='skyblue')\n",
        "\n",
        "plt.title('Frequency of Labels')\n",
        "plt.xlabel('Label')\n",
        "plt.ylabel('Frequency')\n",
        "plt.xticks(rotation=45, ha='right')\n",
        "plt.tight_layout()\n",
        "plt.show()\n"
      ],
      "metadata": {
        "colab": {
          "base_uri": "https://localhost:8080/",
          "height": 607
        },
        "id": "LG9IRCaOOeAC",
        "outputId": "f27e9ec8-62e3-4fc2-d1e6-ec5efd5e5118"
      },
      "execution_count": 11,
      "outputs": [
        {
          "output_type": "display_data",
          "data": {
            "text/plain": [
              "<Figure size 1000x600 with 1 Axes>"
            ],
            "image/png": "[encoded data removed]"
          },
          "metadata": {}
        }
      ]
    },
    {
      "cell_type": "code",
      "source": [
        "print(subfolder_variables['hex']['stop'])"
      ],
      "metadata": {
        "colab": {
          "base_uri": "https://localhost:8080/"
        },
        "id": "ebT3JMgRRZ15",
        "outputId": "4abfe7ac-a6d2-4374-e0a5-4d74ff7c69aa"
      },
      "execution_count": 15,
      "outputs": [
        {
          "output_type": "stream",
          "name": "stdout",
          "text": [
            "[<PIL.PngImagePlugin.PngImageFile image mode=L size=28x28 at 0x782D2869C280>, <PIL.PngImagePlugin.PngImageFile image mode=L size=28x28 at 0x782D2BABFCA0>, <PIL.PngImagePlugin.PngImageFile image mode=L size=28x28 at 0x782D2B4914E0>, <PIL.PngImagePlugin.PngImageFile image mode=L size=28x28 at 0x782D2B491540>, <PIL.PngImagePlugin.PngImageFile image mode=L size=28x28 at 0x782D2B4914B0>, <PIL.PngImagePlugin.PngImageFile image mode=L size=28x28 at 0x782D2B491450>, <PIL.PngImagePlugin.PngImageFile image mode=L size=28x28 at 0x782D2B4913F0>, <PIL.PngImagePlugin.PngImageFile image mode=L size=28x28 at 0x782D2B491390>, <PIL.PngImagePlugin.PngImageFile image mode=L size=28x28 at 0x782D2B491330>, <PIL.PngImagePlugin.PngImageFile image mode=L size=28x28 at 0x782D2B4912D0>, <PIL.PngImagePlugin.PngImageFile image mode=L size=28x28 at 0x782D2B491270>, <PIL.PngImagePlugin.PngImageFile image mode=L size=28x28 at 0x782D2B491210>, <PIL.PngImagePlugin.PngImageFile image mode=L size=28x28 at 0x782D2B4911B0>, <PIL.PngImagePlugin.PngImageFile image mode=L size=28x28 at 0x782D2B492110>, <PIL.PngImagePlugin.PngImageFile image mode=L size=28x28 at 0x782D2B492170>, <PIL.PngImagePlugin.PngImageFile image mode=L size=28x28 at 0x782D2B4921D0>, <PIL.PngImagePlugin.PngImageFile image mode=L size=28x28 at 0x782D2B492230>, <PIL.PngImagePlugin.PngImageFile image mode=L size=28x28 at 0x782D2B492290>, <PIL.PngImagePlugin.PngImageFile image mode=L size=28x28 at 0x782D2B4922F0>, <PIL.PngImagePlugin.PngImageFile image mode=L size=28x28 at 0x782D2B492350>, <PIL.PngImagePlugin.PngImageFile image mode=L size=28x28 at 0x782D2B4923B0>, <PIL.PngImagePlugin.PngImageFile image mode=L size=28x28 at 0x782D2B492410>, <PIL.PngImagePlugin.PngImageFile image mode=L size=28x28 at 0x782D2B492470>, <PIL.PngImagePlugin.PngImageFile image mode=L size=28x28 at 0x782D2B4924D0>, <PIL.PngImagePlugin.PngImageFile image mode=L size=28x28 at 0x782D2B492530>, <PIL.PngImagePlugin.PngImageFile image mode=L size=28x28 at 0x782D2B492590>, <PIL.PngImagePlugin.PngImageFile image mode=L size=28x28 at 0x782D2B4925F0>, <PIL.PngImagePlugin.PngImageFile image mode=L size=28x28 at 0x782D2B492650>, <PIL.PngImagePlugin.PngImageFile image mode=L size=28x28 at 0x782D2B4926B0>, <PIL.PngImagePlugin.PngImageFile image mode=L size=28x28 at 0x782D2B492710>, <PIL.PngImagePlugin.PngImageFile image mode=L size=28x28 at 0x782D2B492770>, <PIL.PngImagePlugin.PngImageFile image mode=L size=28x28 at 0x782D2B4927D0>, <PIL.PngImagePlugin.PngImageFile image mode=L size=28x28 at 0x782D2B492830>, <PIL.PngImagePlugin.PngImageFile image mode=L size=28x28 at 0x782D2B492890>, <PIL.PngImagePlugin.PngImageFile image mode=L size=28x28 at 0x782D2B4928F0>, <PIL.PngImagePlugin.PngImageFile image mode=L size=28x28 at 0x782D2B492950>, <PIL.PngImagePlugin.PngImageFile image mode=L size=28x28 at 0x782D2B4901C0>, <PIL.PngImagePlugin.PngImageFile image mode=L size=28x28 at 0x782D2B490220>, <PIL.PngImagePlugin.PngImageFile image mode=L size=28x28 at 0x782D2B490280>, <PIL.PngImagePlugin.PngImageFile image mode=L size=28x28 at 0x782D2B4902E0>, <PIL.PngImagePlugin.PngImageFile image mode=L size=28x28 at 0x782D2B490340>, <PIL.PngImagePlugin.PngImageFile image mode=L size=28x28 at 0x782D2B4903A0>, <PIL.PngImagePlugin.PngImageFile image mode=L size=28x28 at 0x782D2B490400>]\n"
          ]
        }
      ]
    },
    {
      "cell_type": "code",
      "source": [
        "def random_image(pic_list, sample_size=4):\n",
        "    '''Display a random sample of images from pic_list'''\n",
        "    fig = plt.gcf()\n",
        "    fig.set_size_inches(16, 16)  # fig size\n",
        "\n",
        "    # Randomly select a subset of images from pic_list\n",
        "    sampled_images = random.sample(pic_list, min(sample_size, len(pic_list)))\n",
        "\n",
        "    # Display the sampled images\n",
        "    for i, img in enumerate(sampled_images):\n",
        "        sp = plt.subplot(1, sample_size, i + 1)\n",
        "        sp.axis('Off')\n",
        "        plt.imshow(img)\n",
        "\n",
        "    plt.show()\n",
        "\n",
        "# show stop subfolder of hex\n",
        "random_image(subfolder_variables['hex']['stop'], sample_size=4)\n"
      ],
      "metadata": {
        "id": "HJjoLHr8tMtV",
        "colab": {
          "base_uri": "https://localhost:8080/",
          "height": 306
        },
        "outputId": "c72beabb-e205-4853-e16e-03fd61c30d9c"
      },
      "execution_count": 16,
      "outputs": [
        {
          "output_type": "display_data",
          "data": {
            "text/plain": [
              "<Figure size 1600x1600 with 4 Axes>"
            ],
            "image/png": "[encoded data removed]"
          },
          "metadata": {}
        }
      ]
    },
    {
      "cell_type": "code",
      "source": [
        "# show stop subfolder of hex\n",
        "random_image(subfolder_variables['triangle']['warning'], sample_size=4)"
      ],
      "metadata": {
        "id": "2OLRVG-QEGr4"
      },
      "execution_count": null,
      "outputs": []
    },
    {
      "cell_type": "code",
      "source": [
        "# show stop subfolder of hex\n",
        "random_image(subfolder_variables['round']['limitedtraffic'], sample_size=4)"
      ],
      "metadata": {
        "colab": {
          "base_uri": "https://localhost:8080/",
          "height": 306
        },
        "id": "od9RnwF0It7y",
        "outputId": "be913618-aac7-4ce8-f880-af00f53a8a7e"
      },
      "execution_count": 18,
      "outputs": [
        {
          "output_type": "display_data",
          "data": {
            "text/plain": [
              "<Figure size 1600x1600 with 4 Axes>"
            ],
            "image/png": "[encoded data removed]"
          },
          "metadata": {}
        }
      ]
    },
    {
      "cell_type": "code",
      "source": [],
      "metadata": {
        "id": "BG5JvH5QJCND"
      },
      "execution_count": null,
      "outputs": []
    }
  ]
}